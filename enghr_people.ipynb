{
 "cells": [
  {
   "attachments": {},
   "cell_type": "markdown",
   "metadata": {},
   "source": [
    "### Get people data\n",
    "From the \"People\" page of the Engineering for Human Rights website, make a .csv file of all faculty data: name, department, website, link to image"
   ]
  },
  {
   "cell_type": "code",
   "execution_count": 1,
   "metadata": {},
   "outputs": [
    {
     "name": "stderr",
     "output_type": "stream",
     "text": [
      "/Users/nikhilghosh/Documents/Visual Studio Code/Random Programs/demo-env/lib/python3.9/site-packages/urllib3/__init__.py:34: NotOpenSSLWarning: urllib3 v2.0 only supports OpenSSL 1.1.1+, currently the 'ssl' module is compiled with 'LibreSSL 2.8.3'. See: https://github.com/urllib3/urllib3/issues/3020\n",
      "  warnings.warn(\n"
     ]
    }
   ],
   "source": [
    "import requests\n",
    "from bs4 import BeautifulSoup as bs\n",
    "import pandas as pd"
   ]
  },
  {
   "cell_type": "code",
   "execution_count": 2,
   "metadata": {},
   "outputs": [
    {
     "data": {
      "text/plain": [
       "200"
      ]
     },
     "execution_count": 2,
     "metadata": {},
     "output_type": "execute_result"
    }
   ],
   "source": [
    "url = \"https://engineeringforhumanrights.initiative.uconn.edu/people/\"\n",
    "r = requests.get(url)\n",
    "r.status_code"
   ]
  },
  {
   "cell_type": "code",
   "execution_count": 3,
   "metadata": {},
   "outputs": [
    {
     "data": {
      "text/plain": [
       "55"
      ]
     },
     "execution_count": 3,
     "metadata": {},
     "output_type": "execute_result"
    }
   ],
   "source": [
    "soup = bs(r.content, \"html.parser\")\n",
    "people = soup.find_all(\"div\", {\"class\": \"so-panel widget widget_black-studio-tinymce widget_black_studio_tinymce panel-last-child\"})\n",
    "len(people)"
   ]
  },
  {
   "cell_type": "code",
   "execution_count": 18,
   "metadata": {},
   "outputs": [
    {
     "data": {
      "text/plain": [
       "{'Clusters': ['Engineering Education and Accessibility Rights',\n",
       "  'Engineering Substances and Process Sustainability'],\n",
       " 'First Name(s)': 'Alfredo',\n",
       " 'Last Name': 'Angeles-Boza',\n",
       " 'Dept': 'Chemistry',\n",
       " 'Website': 'https://chemistry.uconn.edu/person/alfredo-angeles-boza/',\n",
       " 'Image': 'https://engineeringforhumanrights.uconn.edu/wp-content/uploads/sites/3354/2021/08/image14.png'}"
      ]
     },
     "execution_count": 18,
     "metadata": {},
     "output_type": "execute_result"
    }
   ],
   "source": [
    "people_list = []\n",
    "for person in people:\n",
    "    person_map = {\"Clusters\": []}\n",
    "    person_map[\"First Name(s)\"] = \" \".join(person.find(\"a\").text.split(\" \")[:-1])\n",
    "    person_map[\"Last Name\"] = person.find(\"a\").text.split(\" \")[-1]\n",
    "    person_map[\"Dept\"] = person.find(\"strong\").text\n",
    "    person_map[\"Website\"] = person.find(\"a\")[\"href\"]\n",
    "    person_map[\"Image\"] = person.find(\"img\")[\"src\"]\n",
    "    for x in person.find_all(\"p\")[3:]:\n",
    "        person_map['Clusters'].append(x.text)\n",
    "    people_list.append(person_map)\n",
    "people_list[2]"
   ]
  },
  {
   "cell_type": "code",
   "execution_count": 25,
   "metadata": {},
   "outputs": [
    {
     "data": {
      "text/html": [
       "<div>\n",
       "<style scoped>\n",
       "    .dataframe tbody tr th:only-of-type {\n",
       "        vertical-align: middle;\n",
       "    }\n",
       "\n",
       "    .dataframe tbody tr th {\n",
       "        vertical-align: top;\n",
       "    }\n",
       "\n",
       "    .dataframe thead th {\n",
       "        text-align: right;\n",
       "    }\n",
       "</style>\n",
       "<table border=\"1\" class=\"dataframe\">\n",
       "  <thead>\n",
       "    <tr style=\"text-align: right;\">\n",
       "      <th></th>\n",
       "      <th>Clusters</th>\n",
       "      <th>First Name(s)</th>\n",
       "      <th>Last Name</th>\n",
       "      <th>Dept</th>\n",
       "      <th>Website</th>\n",
       "      <th>Image</th>\n",
       "    </tr>\n",
       "  </thead>\n",
       "  <tbody>\n",
       "    <tr>\n",
       "      <th>0</th>\n",
       "      <td>[Water, Health, and Food Security]</td>\n",
       "      <td>Cesar</td>\n",
       "      <td>Abadia</td>\n",
       "      <td>Anthropology</td>\n",
       "      <td>https://anthropology.uconn.edu/person/cesar-ab...</td>\n",
       "      <td>https://engineeringforhumanrights.uconn.edu/wp...</td>\n",
       "    </tr>\n",
       "    <tr>\n",
       "      <th>1</th>\n",
       "      <td>[Cybersecurity, Privacy, and Human Vulnerability]</td>\n",
       "      <td>Ghada</td>\n",
       "      <td>Almashaqbeh</td>\n",
       "      <td>Computer Science and Engineering</td>\n",
       "      <td>https://ghadaalmashaqbeh.github.io/</td>\n",
       "      <td>https://engineeringforhumanrights.uconn.edu/wp...</td>\n",
       "    </tr>\n",
       "    <tr>\n",
       "      <th>2</th>\n",
       "      <td>[Engineering Education and Accessibility Right...</td>\n",
       "      <td>Alfredo</td>\n",
       "      <td>Angeles-Boza</td>\n",
       "      <td>Chemistry</td>\n",
       "      <td>https://chemistry.uconn.edu/person/alfredo-ang...</td>\n",
       "      <td>https://engineeringforhumanrights.uconn.edu/wp...</td>\n",
       "    </tr>\n",
       "    <tr>\n",
       "      <th>3</th>\n",
       "      <td>[Water, Health, and Food Security, Community P...</td>\n",
       "      <td>Emmanouil</td>\n",
       "      <td>Anagnostou</td>\n",
       "      <td>Environmental Engineering</td>\n",
       "      <td>https://cee.engr.uconn.edu/people/anagnostou-e...</td>\n",
       "      <td>https://engineeringforhumanrights.uconn.edu/wp...</td>\n",
       "    </tr>\n",
       "    <tr>\n",
       "      <th>4</th>\n",
       "      <td>[Community Planning, Resilience, and Justice f...</td>\n",
       "      <td>Carol</td>\n",
       "      <td>Atkinson-Palombo</td>\n",
       "      <td>Geography</td>\n",
       "      <td>https://geography.uconn.edu/people/faculty/car...</td>\n",
       "      <td>https://engineeringforhumanrights.uconn.edu/wp...</td>\n",
       "    </tr>\n",
       "    <tr>\n",
       "      <th>5</th>\n",
       "      <td>[Community Planning, Resilience, and Justice f...</td>\n",
       "      <td>Marisa E.</td>\n",
       "      <td>Auguste</td>\n",
       "      <td>Connecticut Transportation Safety Research Center</td>\n",
       "      <td>https://www.cti.uconn.edu/cti/Marisa_Auguste.asp</td>\n",
       "      <td>https://engineeringforhumanrights.uconn.edu/wp...</td>\n",
       "    </tr>\n",
       "  </tbody>\n",
       "</table>\n",
       "</div>"
      ],
      "text/plain": [
       "                                            Clusters First Name(s)  \\\n",
       "0                 [Water, Health, and Food Security]         Cesar   \n",
       "1  [Cybersecurity, Privacy, and Human Vulnerability]         Ghada   \n",
       "2  [Engineering Education and Accessibility Right...       Alfredo   \n",
       "3  [Water, Health, and Food Security, Community P...     Emmanouil   \n",
       "4  [Community Planning, Resilience, and Justice f...         Carol   \n",
       "5  [Community Planning, Resilience, and Justice f...     Marisa E.   \n",
       "\n",
       "          Last Name                                               Dept  \\\n",
       "0            Abadia                                       Anthropology   \n",
       "1       Almashaqbeh                   Computer Science and Engineering   \n",
       "2      Angeles-Boza                                          Chemistry   \n",
       "3        Anagnostou                          Environmental Engineering   \n",
       "4  Atkinson-Palombo                                          Geography   \n",
       "5           Auguste  Connecticut Transportation Safety Research Center   \n",
       "\n",
       "                                             Website  \\\n",
       "0  https://anthropology.uconn.edu/person/cesar-ab...   \n",
       "1                https://ghadaalmashaqbeh.github.io/   \n",
       "2  https://chemistry.uconn.edu/person/alfredo-ang...   \n",
       "3  https://cee.engr.uconn.edu/people/anagnostou-e...   \n",
       "4  https://geography.uconn.edu/people/faculty/car...   \n",
       "5   https://www.cti.uconn.edu/cti/Marisa_Auguste.asp   \n",
       "\n",
       "                                               Image  \n",
       "0  https://engineeringforhumanrights.uconn.edu/wp...  \n",
       "1  https://engineeringforhumanrights.uconn.edu/wp...  \n",
       "2  https://engineeringforhumanrights.uconn.edu/wp...  \n",
       "3  https://engineeringforhumanrights.uconn.edu/wp...  \n",
       "4  https://engineeringforhumanrights.uconn.edu/wp...  \n",
       "5  https://engineeringforhumanrights.uconn.edu/wp...  "
      ]
     },
     "execution_count": 25,
     "metadata": {},
     "output_type": "execute_result"
    }
   ],
   "source": [
    "df = pd.DataFrame(people_list)\n",
    "df[0:6]"
   ]
  },
  {
   "cell_type": "code",
   "execution_count": 26,
   "metadata": {},
   "outputs": [
    {
     "name": "stdout",
     "output_type": "stream",
     "text": [
      "<class 'pandas.core.frame.DataFrame'>\n",
      "RangeIndex: 55 entries, 0 to 54\n",
      "Data columns (total 6 columns):\n",
      " #   Column         Non-Null Count  Dtype \n",
      "---  ------         --------------  ----- \n",
      " 0   Clusters       55 non-null     object\n",
      " 1   First Name(s)  55 non-null     object\n",
      " 2   Last Name      55 non-null     object\n",
      " 3   Dept           55 non-null     object\n",
      " 4   Website        55 non-null     object\n",
      " 5   Image          55 non-null     object\n",
      "dtypes: object(6)\n",
      "memory usage: 2.7+ KB\n"
     ]
    }
   ],
   "source": [
    "df.info()"
   ]
  },
  {
   "cell_type": "code",
   "execution_count": 27,
   "metadata": {},
   "outputs": [
    {
     "data": {
      "text/html": [
       "<div>\n",
       "<style scoped>\n",
       "    .dataframe tbody tr th:only-of-type {\n",
       "        vertical-align: middle;\n",
       "    }\n",
       "\n",
       "    .dataframe tbody tr th {\n",
       "        vertical-align: top;\n",
       "    }\n",
       "\n",
       "    .dataframe thead th {\n",
       "        text-align: right;\n",
       "    }\n",
       "</style>\n",
       "<table border=\"1\" class=\"dataframe\">\n",
       "  <thead>\n",
       "    <tr style=\"text-align: right;\">\n",
       "      <th></th>\n",
       "      <th>Clusters</th>\n",
       "      <th>First Name(s)</th>\n",
       "      <th>Last Name</th>\n",
       "      <th>Dept</th>\n",
       "      <th>Website</th>\n",
       "      <th>Image</th>\n",
       "    </tr>\n",
       "  </thead>\n",
       "  <tbody>\n",
       "    <tr>\n",
       "      <th>50</th>\n",
       "      <td>[Engineering Education and Accessibility Rights]</td>\n",
       "      <td>Arash</td>\n",
       "      <td>Zaghi</td>\n",
       "      <td>Civil and Environmental Engineering</td>\n",
       "      <td>https://cee.engr.uconn.edu/people/zaghi-arash</td>\n",
       "      <td>https://engineeringforhumanrights.uconn.edu/wp...</td>\n",
       "    </tr>\n",
       "    <tr>\n",
       "      <th>51</th>\n",
       "      <td>[Community Planning, Resilience, and Justice f...</td>\n",
       "      <td>Jin</td>\n",
       "      <td>Zhu</td>\n",
       "      <td>Civil and Environmental Engineering</td>\n",
       "      <td>https://cee.engr.uconn.edu/people/zhu-jin</td>\n",
       "      <td>https://engineeringforhumanrights.uconn.edu/wp...</td>\n",
       "    </tr>\n",
       "    <tr>\n",
       "      <th>52</th>\n",
       "      <td>[Community Planning, Resilience, and Justice f...</td>\n",
       "      <td>Fatemeh</td>\n",
       "      <td>Fakhrmoosavi</td>\n",
       "      <td>Civil and Environmental Engineering</td>\n",
       "      <td>https://cee.engr.uconn.edu/people/fakhrmoosavi...</td>\n",
       "      <td>https://engineeringforhumanrights.initiative.u...</td>\n",
       "    </tr>\n",
       "    <tr>\n",
       "      <th>53</th>\n",
       "      <td>[Engineering Education and Accessibility Rights]</td>\n",
       "      <td>Stephany</td>\n",
       "      <td>Santos</td>\n",
       "      <td>Biomedical Engineering</td>\n",
       "      <td>https://www.bme.uconn.edu/santos-stephany/</td>\n",
       "      <td>https://engineeringforhumanrights.initiative.u...</td>\n",
       "    </tr>\n",
       "    <tr>\n",
       "      <th>54</th>\n",
       "      <td>[Community Planning, Resilience, and Justice f...</td>\n",
       "      <td>Louanne</td>\n",
       "      <td>Cooley</td>\n",
       "      <td>Connecticut Institute for Resilience and Clima...</td>\n",
       "      <td>https://circa.uconn.edu/person/louanne-cooley/</td>\n",
       "      <td>https://engineeringforhumanrights.initiative.u...</td>\n",
       "    </tr>\n",
       "  </tbody>\n",
       "</table>\n",
       "</div>"
      ],
      "text/plain": [
       "                                             Clusters First Name(s)  \\\n",
       "50   [Engineering Education and Accessibility Rights]         Arash   \n",
       "51  [Community Planning, Resilience, and Justice f...           Jin   \n",
       "52  [Community Planning, Resilience, and Justice f...       Fatemeh   \n",
       "53   [Engineering Education and Accessibility Rights]      Stephany   \n",
       "54  [Community Planning, Resilience, and Justice f...       Louanne   \n",
       "\n",
       "       Last Name                                               Dept  \\\n",
       "50         Zaghi                Civil and Environmental Engineering   \n",
       "51           Zhu                Civil and Environmental Engineering   \n",
       "52  Fakhrmoosavi                Civil and Environmental Engineering   \n",
       "53        Santos                             Biomedical Engineering   \n",
       "54        Cooley  Connecticut Institute for Resilience and Clima...   \n",
       "\n",
       "                                              Website  \\\n",
       "50      https://cee.engr.uconn.edu/people/zaghi-arash   \n",
       "51          https://cee.engr.uconn.edu/people/zhu-jin   \n",
       "52  https://cee.engr.uconn.edu/people/fakhrmoosavi...   \n",
       "53         https://www.bme.uconn.edu/santos-stephany/   \n",
       "54     https://circa.uconn.edu/person/louanne-cooley/   \n",
       "\n",
       "                                                Image  \n",
       "50  https://engineeringforhumanrights.uconn.edu/wp...  \n",
       "51  https://engineeringforhumanrights.uconn.edu/wp...  \n",
       "52  https://engineeringforhumanrights.initiative.u...  \n",
       "53  https://engineeringforhumanrights.initiative.u...  \n",
       "54  https://engineeringforhumanrights.initiative.u...  "
      ]
     },
     "execution_count": 27,
     "metadata": {},
     "output_type": "execute_result"
    }
   ],
   "source": [
    "df.tail()"
   ]
  },
  {
   "cell_type": "code",
   "execution_count": 28,
   "metadata": {},
   "outputs": [
    {
     "data": {
      "text/html": [
       "<div>\n",
       "<style scoped>\n",
       "    .dataframe tbody tr th:only-of-type {\n",
       "        vertical-align: middle;\n",
       "    }\n",
       "\n",
       "    .dataframe tbody tr th {\n",
       "        vertical-align: top;\n",
       "    }\n",
       "\n",
       "    .dataframe thead th {\n",
       "        text-align: right;\n",
       "    }\n",
       "</style>\n",
       "<table border=\"1\" class=\"dataframe\">\n",
       "  <thead>\n",
       "    <tr style=\"text-align: right;\">\n",
       "      <th></th>\n",
       "      <th>Clusters</th>\n",
       "      <th>First Name(s)</th>\n",
       "      <th>Last Name</th>\n",
       "      <th>Dept</th>\n",
       "      <th>Website</th>\n",
       "      <th>Image</th>\n",
       "    </tr>\n",
       "  </thead>\n",
       "  <tbody>\n",
       "    <tr>\n",
       "      <th>47</th>\n",
       "      <td>[Water, Health, and Food Security]</td>\n",
       "      <td>Tim</td>\n",
       "      <td>Vadas</td>\n",
       "      <td>Civil and Environmental Engineering</td>\n",
       "      <td>https://cee.engr.uconn.edu/people/vadas-tim</td>\n",
       "      <td>https://engineeringforhumanrights.uconn.edu/wp...</td>\n",
       "    </tr>\n",
       "    <tr>\n",
       "      <th>48</th>\n",
       "      <td>[Community Planning, Resilience, and Justice f...</td>\n",
       "      <td>Guiling</td>\n",
       "      <td>Wang</td>\n",
       "      <td>Civil and Environmental Engineering</td>\n",
       "      <td>https://hydroclimatology.uconn.edu/</td>\n",
       "      <td>https://engineeringforhumanrights.uconn.edu/wp...</td>\n",
       "    </tr>\n",
       "    <tr>\n",
       "      <th>49</th>\n",
       "      <td>[Water, Health, and Food Security]</td>\n",
       "      <td>Sarah</td>\n",
       "      <td>Willen</td>\n",
       "      <td>Anthropology</td>\n",
       "      <td>https://anthropology.uconn.edu/person/sarah-wi...</td>\n",
       "      <td>https://engineeringforhumanrights.uconn.edu/wp...</td>\n",
       "    </tr>\n",
       "    <tr>\n",
       "      <th>50</th>\n",
       "      <td>[Engineering Education and Accessibility Rights]</td>\n",
       "      <td>Arash</td>\n",
       "      <td>Zaghi</td>\n",
       "      <td>Civil and Environmental Engineering</td>\n",
       "      <td>https://cee.engr.uconn.edu/people/zaghi-arash</td>\n",
       "      <td>https://engineeringforhumanrights.uconn.edu/wp...</td>\n",
       "    </tr>\n",
       "    <tr>\n",
       "      <th>51</th>\n",
       "      <td>[Community Planning, Resilience, and Justice f...</td>\n",
       "      <td>Jin</td>\n",
       "      <td>Zhu</td>\n",
       "      <td>Civil and Environmental Engineering</td>\n",
       "      <td>https://cee.engr.uconn.edu/people/zhu-jin</td>\n",
       "      <td>https://engineeringforhumanrights.uconn.edu/wp...</td>\n",
       "    </tr>\n",
       "  </tbody>\n",
       "</table>\n",
       "</div>"
      ],
      "text/plain": [
       "                                             Clusters First Name(s) Last Name  \\\n",
       "47                 [Water, Health, and Food Security]           Tim     Vadas   \n",
       "48  [Community Planning, Resilience, and Justice f...       Guiling      Wang   \n",
       "49                 [Water, Health, and Food Security]         Sarah    Willen   \n",
       "50   [Engineering Education and Accessibility Rights]         Arash     Zaghi   \n",
       "51  [Community Planning, Resilience, and Justice f...           Jin       Zhu   \n",
       "\n",
       "                                   Dept  \\\n",
       "47  Civil and Environmental Engineering   \n",
       "48  Civil and Environmental Engineering   \n",
       "49                         Anthropology   \n",
       "50  Civil and Environmental Engineering   \n",
       "51  Civil and Environmental Engineering   \n",
       "\n",
       "                                              Website  \\\n",
       "47        https://cee.engr.uconn.edu/people/vadas-tim   \n",
       "48                https://hydroclimatology.uconn.edu/   \n",
       "49  https://anthropology.uconn.edu/person/sarah-wi...   \n",
       "50      https://cee.engr.uconn.edu/people/zaghi-arash   \n",
       "51          https://cee.engr.uconn.edu/people/zhu-jin   \n",
       "\n",
       "                                                Image  \n",
       "47  https://engineeringforhumanrights.uconn.edu/wp...  \n",
       "48  https://engineeringforhumanrights.uconn.edu/wp...  \n",
       "49  https://engineeringforhumanrights.uconn.edu/wp...  \n",
       "50  https://engineeringforhumanrights.uconn.edu/wp...  \n",
       "51  https://engineeringforhumanrights.uconn.edu/wp...  "
      ]
     },
     "execution_count": 28,
     "metadata": {},
     "output_type": "execute_result"
    }
   ],
   "source": [
    "# sort the df by last name\n",
    "df = df.sort_values(by='Last Name')\n",
    "df.tail()"
   ]
  },
  {
   "cell_type": "code",
   "execution_count": 29,
   "metadata": {},
   "outputs": [],
   "source": [
    "df.to_csv(\"faculty listing 2023 Jun 14.csv\")"
   ]
  },
  {
   "cell_type": "code",
   "execution_count": null,
   "metadata": {},
   "outputs": [],
   "source": []
  }
 ],
 "metadata": {
  "kernelspec": {
   "display_name": "demo-env",
   "language": "python",
   "name": "python3"
  },
  "language_info": {
   "codemirror_mode": {
    "name": "ipython",
    "version": 3
   },
   "file_extension": ".py",
   "mimetype": "text/x-python",
   "name": "python",
   "nbconvert_exporter": "python",
   "pygments_lexer": "ipython3",
   "version": "3.9.6"
  },
  "orig_nbformat": 4
 },
 "nbformat": 4,
 "nbformat_minor": 2
}
