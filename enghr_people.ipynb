{
 "cells": [
  {
   "attachments": {},
   "cell_type": "markdown",
   "metadata": {},
   "source": [
    "### Get people data\n",
    "From the \"People\" page of the Engineering for Human Rights website, make a .csv file of all faculty data: name, department, website, link to image"
   ]
  },
  {
   "cell_type": "code",
   "execution_count": 1,
   "metadata": {},
   "outputs": [
    {
     "name": "stderr",
     "output_type": "stream",
     "text": [
      "/Users/nikhilghosh/Documents/Visual Studio Code/Random Programs/demo-env/lib/python3.9/site-packages/urllib3/__init__.py:34: NotOpenSSLWarning: urllib3 v2.0 only supports OpenSSL 1.1.1+, currently the 'ssl' module is compiled with 'LibreSSL 2.8.3'. See: https://github.com/urllib3/urllib3/issues/3020\n",
      "  warnings.warn(\n"
     ]
    }
   ],
   "source": [
    "import requests\n",
    "from bs4 import BeautifulSoup as bs\n",
    "import pandas as pd"
   ]
  },
  {
   "cell_type": "code",
   "execution_count": 2,
   "metadata": {},
   "outputs": [
    {
     "data": {
      "text/plain": [
       "200"
      ]
     },
     "execution_count": 2,
     "metadata": {},
     "output_type": "execute_result"
    }
   ],
   "source": [
    "url = \"https://engineeringforhumanrights.initiative.uconn.edu/people/\"\n",
    "r = requests.get(url)\n",
    "r.status_code"
   ]
  },
  {
   "cell_type": "code",
   "execution_count": 3,
   "metadata": {},
   "outputs": [
    {
     "data": {
      "text/plain": [
       "54"
      ]
     },
     "execution_count": 3,
     "metadata": {},
     "output_type": "execute_result"
    }
   ],
   "source": [
    "soup = bs(r.content, \"html.parser\")\n",
    "people = soup.find_all(\"div\", {\"class\": \"so-panel widget widget_black-studio-tinymce widget_black_studio_tinymce panel-last-child\"})\n",
    "len(people)"
   ]
  },
  {
   "cell_type": "code",
   "execution_count": 5,
   "metadata": {},
   "outputs": [
    {
     "data": {
      "text/plain": [
       "{'name': 'Emmanouil Anagnostou',\n",
       " 'dept': 'Environmental Engineering',\n",
       " 'website': 'https://cee.engr.uconn.edu/people/anagnostou-emmanouil-n',\n",
       " 'image': 'https://engineeringforhumanrights.uconn.edu/wp-content/uploads/sites/3354/2021/07/image54-400x400.jpg',\n",
       " 'clusters': ['Water, Health, and Food Security',\n",
       "  'Community Planning, Resilience, and Justice for a Changing Environment']}"
      ]
     },
     "execution_count": 5,
     "metadata": {},
     "output_type": "execute_result"
    }
   ],
   "source": [
    "people_list = []\n",
    "for person in people:\n",
    "    person_map = {\"name\": \"\", \"dept\": \"\", \"website\": \"\", \"image\": \"\", \"clusters\": []}\n",
    "    person_map[\"name\"] = person.find(\"a\").text\n",
    "    person_map[\"dept\"] = person.find(\"strong\").text\n",
    "    person_map[\"website\"] = person.find(\"a\")[\"href\"]\n",
    "    person_map[\"image\"] = person.find(\"img\")[\"src\"]\n",
    "    for x in person.find_all(\"p\")[3:]:\n",
    "        person_map['clusters'].append(x.text)\n",
    "    people_list.append(person_map)\n",
    "people_list[3]"
   ]
  },
  {
   "cell_type": "code",
   "execution_count": 6,
   "metadata": {},
   "outputs": [
    {
     "data": {
      "text/html": [
       "<div>\n",
       "<style scoped>\n",
       "    .dataframe tbody tr th:only-of-type {\n",
       "        vertical-align: middle;\n",
       "    }\n",
       "\n",
       "    .dataframe tbody tr th {\n",
       "        vertical-align: top;\n",
       "    }\n",
       "\n",
       "    .dataframe thead th {\n",
       "        text-align: right;\n",
       "    }\n",
       "</style>\n",
       "<table border=\"1\" class=\"dataframe\">\n",
       "  <thead>\n",
       "    <tr style=\"text-align: right;\">\n",
       "      <th></th>\n",
       "      <th>name</th>\n",
       "      <th>dept</th>\n",
       "      <th>website</th>\n",
       "      <th>image</th>\n",
       "      <th>clusters</th>\n",
       "    </tr>\n",
       "  </thead>\n",
       "  <tbody>\n",
       "    <tr>\n",
       "      <th>0</th>\n",
       "      <td>Cesar Abadia</td>\n",
       "      <td>Anthropology</td>\n",
       "      <td>https://anthropology.uconn.edu/person/cesar-ab...</td>\n",
       "      <td>https://engineeringforhumanrights.uconn.edu/wp...</td>\n",
       "      <td>[Water, Health, and Food Security]</td>\n",
       "    </tr>\n",
       "    <tr>\n",
       "      <th>1</th>\n",
       "      <td>Ghada Almashaqbeh</td>\n",
       "      <td>Computer Science and Engineering</td>\n",
       "      <td>https://ghadaalmashaqbeh.github.io/</td>\n",
       "      <td>https://engineeringforhumanrights.uconn.edu/wp...</td>\n",
       "      <td>[Cybersecurity, Privacy, and Human Vulnerability]</td>\n",
       "    </tr>\n",
       "    <tr>\n",
       "      <th>2</th>\n",
       "      <td>Alfredo Angeles-Boza</td>\n",
       "      <td>Chemistry</td>\n",
       "      <td>https://chemistry.uconn.edu/person/alfredo-ang...</td>\n",
       "      <td>https://engineeringforhumanrights.uconn.edu/wp...</td>\n",
       "      <td>[Engineering Education and Accessibility Right...</td>\n",
       "    </tr>\n",
       "    <tr>\n",
       "      <th>3</th>\n",
       "      <td>Emmanouil Anagnostou</td>\n",
       "      <td>Environmental Engineering</td>\n",
       "      <td>https://cee.engr.uconn.edu/people/anagnostou-e...</td>\n",
       "      <td>https://engineeringforhumanrights.uconn.edu/wp...</td>\n",
       "      <td>[Water, Health, and Food Security, Community P...</td>\n",
       "    </tr>\n",
       "    <tr>\n",
       "      <th>4</th>\n",
       "      <td>Carol Atkinson-Palombo</td>\n",
       "      <td>Geography</td>\n",
       "      <td>https://geography.uconn.edu/people/faculty/car...</td>\n",
       "      <td>https://engineeringforhumanrights.uconn.edu/wp...</td>\n",
       "      <td>[Community Planning, Resilience, and Justice f...</td>\n",
       "    </tr>\n",
       "  </tbody>\n",
       "</table>\n",
       "</div>"
      ],
      "text/plain": [
       "                     name                              dept  \\\n",
       "0            Cesar Abadia                      Anthropology   \n",
       "1       Ghada Almashaqbeh  Computer Science and Engineering   \n",
       "2    Alfredo Angeles-Boza                         Chemistry   \n",
       "3    Emmanouil Anagnostou         Environmental Engineering   \n",
       "4  Carol Atkinson-Palombo                         Geography   \n",
       "\n",
       "                                             website  \\\n",
       "0  https://anthropology.uconn.edu/person/cesar-ab...   \n",
       "1                https://ghadaalmashaqbeh.github.io/   \n",
       "2  https://chemistry.uconn.edu/person/alfredo-ang...   \n",
       "3  https://cee.engr.uconn.edu/people/anagnostou-e...   \n",
       "4  https://geography.uconn.edu/people/faculty/car...   \n",
       "\n",
       "                                               image  \\\n",
       "0  https://engineeringforhumanrights.uconn.edu/wp...   \n",
       "1  https://engineeringforhumanrights.uconn.edu/wp...   \n",
       "2  https://engineeringforhumanrights.uconn.edu/wp...   \n",
       "3  https://engineeringforhumanrights.uconn.edu/wp...   \n",
       "4  https://engineeringforhumanrights.uconn.edu/wp...   \n",
       "\n",
       "                                            clusters  \n",
       "0                 [Water, Health, and Food Security]  \n",
       "1  [Cybersecurity, Privacy, and Human Vulnerability]  \n",
       "2  [Engineering Education and Accessibility Right...  \n",
       "3  [Water, Health, and Food Security, Community P...  \n",
       "4  [Community Planning, Resilience, and Justice f...  "
      ]
     },
     "execution_count": 6,
     "metadata": {},
     "output_type": "execute_result"
    }
   ],
   "source": [
    "df = pd.DataFrame(people_list)\n",
    "df.head()"
   ]
  },
  {
   "cell_type": "code",
   "execution_count": 7,
   "metadata": {},
   "outputs": [
    {
     "name": "stdout",
     "output_type": "stream",
     "text": [
      "<class 'pandas.core.frame.DataFrame'>\n",
      "RangeIndex: 54 entries, 0 to 53\n",
      "Data columns (total 5 columns):\n",
      " #   Column    Non-Null Count  Dtype \n",
      "---  ------    --------------  ----- \n",
      " 0   name      54 non-null     object\n",
      " 1   dept      54 non-null     object\n",
      " 2   website   54 non-null     object\n",
      " 3   image     54 non-null     object\n",
      " 4   clusters  54 non-null     object\n",
      "dtypes: object(5)\n",
      "memory usage: 2.2+ KB\n"
     ]
    }
   ],
   "source": [
    "# df.to_csv(\"faculty listing 2023 Jun.csv\")\n",
    "df.info()"
   ]
  },
  {
   "cell_type": "code",
   "execution_count": null,
   "metadata": {},
   "outputs": [],
   "source": []
  }
 ],
 "metadata": {
  "kernelspec": {
   "display_name": "demo-env",
   "language": "python",
   "name": "python3"
  },
  "language_info": {
   "codemirror_mode": {
    "name": "ipython",
    "version": 3
   },
   "file_extension": ".py",
   "mimetype": "text/x-python",
   "name": "python",
   "nbconvert_exporter": "python",
   "pygments_lexer": "ipython3",
   "version": "3.9.6"
  },
  "orig_nbformat": 4
 },
 "nbformat": 4,
 "nbformat_minor": 2
}
